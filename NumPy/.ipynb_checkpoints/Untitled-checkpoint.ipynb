{
 "cells": [
  {
   "cell_type": "markdown",
   "id": "7e96df89",
   "metadata": {},
   "source": [
    "### Numy Arrays"
   ]
  },
  {
   "cell_type": "code",
   "execution_count": 1,
   "id": "dbac95d3",
   "metadata": {},
   "outputs": [],
   "source": [
    "list1 = 10, 20, 30"
   ]
  },
  {
   "cell_type": "code",
   "execution_count": 2,
   "id": "ab9690a7",
   "metadata": {},
   "outputs": [],
   "source": [
    "import numpy as np"
   ]
  },
  {
   "cell_type": "code",
   "execution_count": 3,
   "id": "c8298e08",
   "metadata": {},
   "outputs": [],
   "source": [
    "array1 = np.array(list1)"
   ]
  },
  {
   "cell_type": "code",
   "execution_count": 4,
   "id": "55640210",
   "metadata": {},
   "outputs": [
    {
     "data": {
      "text/plain": [
       "array([10, 20, 30])"
      ]
     },
     "execution_count": 4,
     "metadata": {},
     "output_type": "execute_result"
    }
   ],
   "source": [
    "array1"
   ]
  },
  {
   "cell_type": "code",
   "execution_count": 8,
   "id": "20b5019b",
   "metadata": {},
   "outputs": [],
   "source": [
    "list2 = [[10,20,30],[40,50,60],[70,80,90]]"
   ]
  },
  {
   "cell_type": "markdown",
   "id": "9e8edcda",
   "metadata": {},
   "source": [
    "### 2d array"
   ]
  },
  {
   "cell_type": "code",
   "execution_count": 9,
   "id": "403123f1",
   "metadata": {},
   "outputs": [],
   "source": [
    "array2 = np.array(list2)"
   ]
  },
  {
   "cell_type": "code",
   "execution_count": 10,
   "id": "3f7a17c9",
   "metadata": {},
   "outputs": [
    {
     "data": {
      "text/plain": [
       "array([[10, 20, 30],\n",
       "       [40, 50, 60],\n",
       "       [70, 80, 90]])"
      ]
     },
     "execution_count": 10,
     "metadata": {},
     "output_type": "execute_result"
    }
   ],
   "source": [
    "array2"
   ]
  },
  {
   "cell_type": "markdown",
   "id": "827c32e6",
   "metadata": {},
   "source": [
    "#### Arrays using methods"
   ]
  },
  {
   "cell_type": "code",
   "execution_count": 12,
   "id": "0d92f912",
   "metadata": {},
   "outputs": [
    {
     "data": {
      "text/plain": [
       "array([0, 2, 4, 6, 8])"
      ]
     },
     "execution_count": 12,
     "metadata": {},
     "output_type": "execute_result"
    }
   ],
   "source": [
    "np.arange(0,10,2)"
   ]
  },
  {
   "cell_type": "code",
   "execution_count": 15,
   "id": "4f242bdf",
   "metadata": {},
   "outputs": [
    {
     "data": {
      "text/plain": [
       "array([[1., 1., 1., 1., 1.],\n",
       "       [1., 1., 1., 1., 1.]])"
      ]
     },
     "execution_count": 15,
     "metadata": {},
     "output_type": "execute_result"
    }
   ],
   "source": [
    "np.ones((2,5)) #2 rows 5 columns"
   ]
  },
  {
   "cell_type": "code",
   "execution_count": 19,
   "id": "e5327aa2",
   "metadata": {},
   "outputs": [
    {
     "data": {
      "text/plain": [
       "array([10.        , 10.52631579, 11.05263158, 11.57894737, 12.10526316,\n",
       "       12.63157895, 13.15789474, 13.68421053, 14.21052632, 14.73684211,\n",
       "       15.26315789, 15.78947368, 16.31578947, 16.84210526, 17.36842105,\n",
       "       17.89473684, 18.42105263, 18.94736842, 19.47368421, 20.        ])"
      ]
     },
     "execution_count": 19,
     "metadata": {},
     "output_type": "execute_result"
    }
   ],
   "source": [
    "np.linspace(10,20,20) #3rd argument refers to the number of points you want"
   ]
  },
  {
   "cell_type": "markdown",
   "id": "d6e3ff0f",
   "metadata": {},
   "source": [
    "#### identity matrix"
   ]
  },
  {
   "cell_type": "code",
   "execution_count": 22,
   "id": "d60e9a2e",
   "metadata": {},
   "outputs": [
    {
     "data": {
      "text/plain": [
       "array([[1., 0., 0., 0., 0.],\n",
       "       [0., 1., 0., 0., 0.],\n",
       "       [0., 0., 1., 0., 0.],\n",
       "       [0., 0., 0., 1., 0.],\n",
       "       [0., 0., 0., 0., 1.]])"
      ]
     },
     "execution_count": 22,
     "metadata": {},
     "output_type": "execute_result"
    }
   ],
   "source": [
    "np.eye(5)"
   ]
  },
  {
   "cell_type": "markdown",
   "id": "cddadbf2",
   "metadata": {},
   "source": [
    "### random matrix"
   ]
  },
  {
   "cell_type": "code",
   "execution_count": 25,
   "id": "1c7b08a8",
   "metadata": {},
   "outputs": [
    {
     "data": {
      "text/plain": [
       "array([0.12935729, 0.88126228, 0.79119513, 0.51558736])"
      ]
     },
     "execution_count": 25,
     "metadata": {},
     "output_type": "execute_result"
    }
   ],
   "source": [
    "np.random.rand(4)"
   ]
  },
  {
   "cell_type": "code",
   "execution_count": 24,
   "id": "f01b659b",
   "metadata": {},
   "outputs": [
    {
     "data": {
      "text/plain": [
       "array([[0.80899765, 0.63946084, 0.1333279 , 0.77087095, 0.15920146],\n",
       "       [0.8057596 , 0.90671729, 0.15207638, 0.01159359, 0.17063638],\n",
       "       [0.27468626, 0.95196258, 0.21842696, 0.89218054, 0.19376789],\n",
       "       [0.54968143, 0.34458062, 0.39974679, 0.62307827, 0.82191964],\n",
       "       [0.12082127, 0.87586204, 0.11241436, 0.88677663, 0.96753913]])"
      ]
     },
     "execution_count": 24,
     "metadata": {},
     "output_type": "execute_result"
    }
   ],
   "source": [
    "np.random.rand(5,5)"
   ]
  },
  {
   "cell_type": "code",
   "execution_count": 26,
   "id": "a49af2e5",
   "metadata": {},
   "outputs": [
    {
     "data": {
      "text/plain": [
       "array([-0.14253   , -0.80093963,  0.61778584, -0.6656872 ])"
      ]
     },
     "execution_count": 26,
     "metadata": {},
     "output_type": "execute_result"
    }
   ],
   "source": [
    "np.random.randn(4)"
   ]
  },
  {
   "cell_type": "code",
   "execution_count": 27,
   "id": "ae672c04",
   "metadata": {},
   "outputs": [
    {
     "data": {
      "text/plain": [
       "array([70, 81, 81, 21, 42, 90, 61, 58, 60, 83])"
      ]
     },
     "execution_count": 27,
     "metadata": {},
     "output_type": "execute_result"
    }
   ],
   "source": [
    "np.random.randint(10,100,10)"
   ]
  },
  {
   "cell_type": "markdown",
   "id": "596f5604",
   "metadata": {},
   "source": [
    "### usefull array methods"
   ]
  },
  {
   "cell_type": "code",
   "execution_count": 32,
   "id": "519643d5",
   "metadata": {},
   "outputs": [],
   "source": [
    "array3 = np.arange(12)"
   ]
  },
  {
   "cell_type": "code",
   "execution_count": 33,
   "id": "29ceda1d",
   "metadata": {},
   "outputs": [
    {
     "data": {
      "text/plain": [
       "array([ 0,  1,  2,  3,  4,  5,  6,  7,  8,  9, 10, 11])"
      ]
     },
     "execution_count": 33,
     "metadata": {},
     "output_type": "execute_result"
    }
   ],
   "source": [
    "array3"
   ]
  },
  {
   "cell_type": "code",
   "execution_count": 30,
   "id": "397fb8ec",
   "metadata": {},
   "outputs": [],
   "source": [
    "array4 = np.random.randint(0,50,10)"
   ]
  },
  {
   "cell_type": "code",
   "execution_count": 31,
   "id": "a0f3ef7b",
   "metadata": {},
   "outputs": [
    {
     "data": {
      "text/plain": [
       "array([ 2, 30, 24, 33,  9, 41, 48, 16, 44, 40])"
      ]
     },
     "execution_count": 31,
     "metadata": {},
     "output_type": "execute_result"
    }
   ],
   "source": [
    "array4"
   ]
  },
  {
   "cell_type": "code",
   "execution_count": 34,
   "id": "2ca82c47",
   "metadata": {},
   "outputs": [
    {
     "data": {
      "text/plain": [
       "array([[ 0,  1,  2],\n",
       "       [ 3,  4,  5],\n",
       "       [ 6,  7,  8],\n",
       "       [ 9, 10, 11]])"
      ]
     },
     "execution_count": 34,
     "metadata": {},
     "output_type": "execute_result"
    }
   ],
   "source": [
    "array3.reshape(4,3)"
   ]
  },
  {
   "cell_type": "code",
   "execution_count": 35,
   "id": "79da7c67",
   "metadata": {},
   "outputs": [
    {
     "data": {
      "text/plain": [
       "11"
      ]
     },
     "execution_count": 35,
     "metadata": {},
     "output_type": "execute_result"
    }
   ],
   "source": [
    "array3.max()"
   ]
  },
  {
   "cell_type": "code",
   "execution_count": 36,
   "id": "61aa9288",
   "metadata": {},
   "outputs": [
    {
     "data": {
      "text/plain": [
       "0"
      ]
     },
     "execution_count": 36,
     "metadata": {},
     "output_type": "execute_result"
    }
   ],
   "source": [
    "array3.min()"
   ]
  },
  {
   "cell_type": "code",
   "execution_count": 37,
   "id": "62f1a937",
   "metadata": {},
   "outputs": [
    {
     "data": {
      "text/plain": [
       "11"
      ]
     },
     "execution_count": 37,
     "metadata": {},
     "output_type": "execute_result"
    }
   ],
   "source": [
    "array3.argmax()"
   ]
  },
  {
   "cell_type": "code",
   "execution_count": 38,
   "id": "2c9266a2",
   "metadata": {},
   "outputs": [
    {
     "data": {
      "text/plain": [
       "0"
      ]
     },
     "execution_count": 38,
     "metadata": {},
     "output_type": "execute_result"
    }
   ],
   "source": [
    "array3.argmin()"
   ]
  },
  {
   "cell_type": "code",
   "execution_count": 39,
   "id": "7961b030",
   "metadata": {},
   "outputs": [
    {
     "data": {
      "text/plain": [
       "(12,)"
      ]
     },
     "execution_count": 39,
     "metadata": {},
     "output_type": "execute_result"
    }
   ],
   "source": [
    "array3.shape"
   ]
  },
  {
   "cell_type": "code",
   "execution_count": 40,
   "id": "8a2aa634",
   "metadata": {},
   "outputs": [
    {
     "data": {
      "text/plain": [
       "dtype('int64')"
      ]
     },
     "execution_count": 40,
     "metadata": {},
     "output_type": "execute_result"
    }
   ],
   "source": [
    "array3.dtype"
   ]
  },
  {
   "cell_type": "code",
   "execution_count": null,
   "id": "0ac4bede",
   "metadata": {},
   "outputs": [],
   "source": []
  }
 ],
 "metadata": {
  "kernelspec": {
   "display_name": "Python 3",
   "language": "python",
   "name": "python3"
  },
  "language_info": {
   "codemirror_mode": {
    "name": "ipython",
    "version": 3
   },
   "file_extension": ".py",
   "mimetype": "text/x-python",
   "name": "python",
   "nbconvert_exporter": "python",
   "pygments_lexer": "ipython3",
   "version": "3.8.8"
  }
 },
 "nbformat": 4,
 "nbformat_minor": 5
}
